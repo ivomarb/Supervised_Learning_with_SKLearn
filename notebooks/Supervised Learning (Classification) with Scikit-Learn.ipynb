{
 "cells": [
  {
   "cell_type": "markdown",
   "metadata": {},
   "source": [
    "Candidate: Ivomar Brito Soares\n",
    "\n",
    "Email: ivomarbsoares@gmail.com"
   ]
  },
  {
   "cell_type": "markdown",
   "metadata": {},
   "source": [
    "## Summary"
   ]
  },
  {
   "cell_type": "markdown",
   "metadata": {},
   "source": [
    "<ul>\n",
    "<li>Importing Libraries</li>\n",
    "<li>Utility Methods</li>\n",
    "<li>Reading Dataset</li>\n",
    "<li>Exploratory Data Analysis</li>\n",
    "<li>Pre-processing</li>\n",
    "<li>Creating Training and Test Sets</li>\n",
    "<li>Training and Testing Classification Models</li>\n",
    "<li>Steps of Future Work</li>\n",
    "</ul>"
   ]
  },
  {
   "cell_type": "markdown",
   "metadata": {},
   "source": [
    "## Importing Libraries"
   ]
  },
  {
   "cell_type": "code",
   "execution_count": 1,
   "metadata": {},
   "outputs": [
    {
     "name": "stderr",
     "output_type": "stream",
     "text": [
      "/usr/local/lib/python3.6/dist-packages/tensorflow/python/framework/dtypes.py:516: FutureWarning: Passing (type, 1) or '1type' as a synonym of type is deprecated; in a future version of numpy, it will be understood as (type, (1,)) / '(1,)type'.\n",
      "  _np_qint8 = np.dtype([(\"qint8\", np.int8, 1)])\n",
      "/usr/local/lib/python3.6/dist-packages/tensorflow/python/framework/dtypes.py:517: FutureWarning: Passing (type, 1) or '1type' as a synonym of type is deprecated; in a future version of numpy, it will be understood as (type, (1,)) / '(1,)type'.\n",
      "  _np_quint8 = np.dtype([(\"quint8\", np.uint8, 1)])\n",
      "/usr/local/lib/python3.6/dist-packages/tensorflow/python/framework/dtypes.py:518: FutureWarning: Passing (type, 1) or '1type' as a synonym of type is deprecated; in a future version of numpy, it will be understood as (type, (1,)) / '(1,)type'.\n",
      "  _np_qint16 = np.dtype([(\"qint16\", np.int16, 1)])\n",
      "/usr/local/lib/python3.6/dist-packages/tensorflow/python/framework/dtypes.py:519: FutureWarning: Passing (type, 1) or '1type' as a synonym of type is deprecated; in a future version of numpy, it will be understood as (type, (1,)) / '(1,)type'.\n",
      "  _np_quint16 = np.dtype([(\"quint16\", np.uint16, 1)])\n",
      "/usr/local/lib/python3.6/dist-packages/tensorflow/python/framework/dtypes.py:520: FutureWarning: Passing (type, 1) or '1type' as a synonym of type is deprecated; in a future version of numpy, it will be understood as (type, (1,)) / '(1,)type'.\n",
      "  _np_qint32 = np.dtype([(\"qint32\", np.int32, 1)])\n",
      "/usr/local/lib/python3.6/dist-packages/tensorflow/python/framework/dtypes.py:525: FutureWarning: Passing (type, 1) or '1type' as a synonym of type is deprecated; in a future version of numpy, it will be understood as (type, (1,)) / '(1,)type'.\n",
      "  np_resource = np.dtype([(\"resource\", np.ubyte, 1)])\n",
      "/usr/local/lib/python3.6/dist-packages/tensorboard/compat/tensorflow_stub/dtypes.py:541: FutureWarning: Passing (type, 1) or '1type' as a synonym of type is deprecated; in a future version of numpy, it will be understood as (type, (1,)) / '(1,)type'.\n",
      "  _np_qint8 = np.dtype([(\"qint8\", np.int8, 1)])\n",
      "/usr/local/lib/python3.6/dist-packages/tensorboard/compat/tensorflow_stub/dtypes.py:542: FutureWarning: Passing (type, 1) or '1type' as a synonym of type is deprecated; in a future version of numpy, it will be understood as (type, (1,)) / '(1,)type'.\n",
      "  _np_quint8 = np.dtype([(\"quint8\", np.uint8, 1)])\n",
      "/usr/local/lib/python3.6/dist-packages/tensorboard/compat/tensorflow_stub/dtypes.py:543: FutureWarning: Passing (type, 1) or '1type' as a synonym of type is deprecated; in a future version of numpy, it will be understood as (type, (1,)) / '(1,)type'.\n",
      "  _np_qint16 = np.dtype([(\"qint16\", np.int16, 1)])\n",
      "/usr/local/lib/python3.6/dist-packages/tensorboard/compat/tensorflow_stub/dtypes.py:544: FutureWarning: Passing (type, 1) or '1type' as a synonym of type is deprecated; in a future version of numpy, it will be understood as (type, (1,)) / '(1,)type'.\n",
      "  _np_quint16 = np.dtype([(\"quint16\", np.uint16, 1)])\n",
      "/usr/local/lib/python3.6/dist-packages/tensorboard/compat/tensorflow_stub/dtypes.py:545: FutureWarning: Passing (type, 1) or '1type' as a synonym of type is deprecated; in a future version of numpy, it will be understood as (type, (1,)) / '(1,)type'.\n",
      "  _np_qint32 = np.dtype([(\"qint32\", np.int32, 1)])\n",
      "/usr/local/lib/python3.6/dist-packages/tensorboard/compat/tensorflow_stub/dtypes.py:550: FutureWarning: Passing (type, 1) or '1type' as a synonym of type is deprecated; in a future version of numpy, it will be understood as (type, (1,)) / '(1,)type'.\n",
      "  np_resource = np.dtype([(\"resource\", np.ubyte, 1)])\n"
     ]
    }
   ],
   "source": [
    "# Allow this notebook to import from its parent path, where commonly used snippets are stored\n",
    "import sys\n",
    "sys.path.append('..')\n",
    "\n",
    "# Automatically reflect code changes to said code snippets\n",
    "%reload_ext autoreload\n",
    "%autoreload 2\n",
    "%matplotlib inline\n",
    "\n",
    "# Import the utility code snippet\n",
    "import dataset\n",
    "\n",
    "import tensorflow as tf\n",
    "tf.enable_eager_execution()\n",
    "import numpy as np\n",
    "import pandas as pd\n",
    "import matplotlib.pyplot as plt\n",
    "import itertools\n",
    "\n",
    "from sklearn.feature_extraction import DictVectorizer\n",
    "\n",
    "from sklearn                 import metrics\n",
    "from sklearn.metrics         import confusion_matrix, classification_report\n",
    "\n",
    "# Models\n",
    "from sklearn.linear_model             import LogisticRegression\n",
    "from sklearn.ensemble                 import AdaBoostClassifier\n",
    "from sklearn.tree                     import DecisionTreeClassifier\n",
    "from sklearn.ensemble                 import RandomForestClassifier"
   ]
  },
  {
   "cell_type": "markdown",
   "metadata": {},
   "source": [
    "## Utility Methods"
   ]
  },
  {
   "cell_type": "code",
   "execution_count": 2,
   "metadata": {},
   "outputs": [],
   "source": [
    "def numeric_exploratory_data_analysis(dataset, generate_csv=False):\n",
    "    \"\"\"\n",
    "    Outputs a pandas dataframe with the dtypes, nan and zero value counts of all features. \n",
    "    Also outputs a csv file.\n",
    "    \"\"\"\n",
    "    assert isinstance(dataset, pd.core.frame.DataFrame)\n",
    "    assert isinstance(generate_csv, bool)\n",
    "\n",
    "     # Shape of the a_dataset.\n",
    "    print('Shape: {} \\n'.format(dataset.shape))\n",
    "\n",
    "    features = list(dataset)\n",
    "    numeric_analysis = pd.DataFrame(index=features, columns=['Dtypes',\n",
    "                                                             '# of values non NaN',\n",
    "                                                             '# of values NaN',\n",
    "                                                             '# of values non zero',\n",
    "                                                             '# of values zero'])\n",
    "\n",
    "    numeric_analysis['Dtypes']               = dataset.dtypes\n",
    "    numeric_analysis['# of values non NaN']  = dataset.count()\n",
    "    numeric_analysis['# of values NaN']      = len(dataset) - dataset.count()\n",
    "    numeric_analysis['# of values non zero'] = dataset.astype(bool).sum(axis=0)\n",
    "    numeric_analysis['# of values zero']     = len(dataset) - dataset.astype(bool).sum(axis=0)\n",
    "\n",
    "    if generate_csv:\n",
    "        numeric_analysis.to_csv(path_or_buf='numeric_analysis.csv')\n",
    "\n",
    "    return numeric_analysis\n",
    "\n",
    "def fit_predict_plot (X_train, X_test, y_train, y_test, model):    \n",
    "    %time model.fit(X_train, y_train)\n",
    "    y_test_pred  = model.predict(X_test)\n",
    "    y_train_pred = model.predict(X_train)\n",
    "    print('Accuracy of training set: {}'.format(metrics.accuracy_score(y_train, y_train_pred)))\n",
    "    print('Accuracy of test set: {}'.format(metrics.accuracy_score(y_test, y_test_pred)))\n",
    "    plt.figure()\n",
    "    cnf_matrix = confusion_matrix(y_test, y_test_pred)\n",
    "    plot_confusion_matrix(cnf_matrix, ['Negative', 'Positive'], title='Confusion Matrix')\n",
    "    plt.show()\n",
    "    class_report = classification_report(y_test, y_test_pred)\n",
    "    print(class_report)\n",
    "    \n",
    "def plot_confusion_matrix(cm, \n",
    "                          classes,\n",
    "                          title='Confusion matrix',\n",
    "                          cmap=plt.cm.Blues):\n",
    "    \"\"\"\n",
    "    This function prints and plots the confusion matrix.\n",
    "    http://scikit-learn.org/stable/auto_examples/model_selection/plot_confusion_matrix.html#sphx-glr-auto-examples-model-selection-plot-confusion-matrix-py\n",
    "    \"\"\"    \n",
    " \n",
    "    print('Confusion matrix, without normalization')\n",
    "\n",
    "    print(cm)\n",
    "\n",
    "    plt.figure()\n",
    "    plt.imshow(cm, interpolation='nearest', cmap=cmap)\n",
    "    plt.title(title)\n",
    "    plt.colorbar()\n",
    "    tick_marks = np.arange(len(classes))\n",
    "    plt.xticks(tick_marks, classes, rotation=45)\n",
    "    plt.yticks(tick_marks, classes)\n",
    "\n",
    "    fmt = 'd'\n",
    "    thresh = cm.max() / 2.\n",
    "    for i, j in itertools.product(range(cm.shape[0]), range(cm.shape[1])):\n",
    "        plt.text(j, i, format(cm[i, j], fmt),\n",
    "                 horizontalalignment=\"center\",\n",
    "                 color=\"white\" if cm[i, j] > thresh else \"black\")\n",
    "\n",
    "        \n",
    "    plt.tight_layout()\n",
    "    plt.ylabel('True Label')\n",
    "    plt.xlabel('Predicted Label')\n",
    "    plt.show()"
   ]
  },
  {
   "cell_type": "markdown",
   "metadata": {},
   "source": [
    "## Reading Dataset"
   ]
  },
  {
   "cell_type": "code",
   "execution_count": 3,
   "metadata": {},
   "outputs": [
    {
     "name": "stdout",
     "output_type": "stream",
     "text": [
      "Computing MD5: /home/ivomar/Dropbox/companies_tests/zalando/zms_ds_challenge-v2.0/data/dataset.jsons.gz\n",
      "MD5 matches: /home/ivomar/Dropbox/companies_tests/zalando/zms_ds_challenge-v2.0/data/dataset.jsons.gz\n",
      "WARNING:tensorflow:The dtype of the watched tensor must be floating (e.g. tf.float32), got tf.string\n",
      "WARNING:tensorflow:The dtype of the watched tensor must be floating (e.g. tf.float32), got tf.string\n",
      "WARNING:tensorflow:The dtype of the watched tensor must be floating (e.g. tf.float32), got tf.string\n",
      "WARNING:tensorflow:The dtype of the watched tensor must be floating (e.g. tf.float32), got tf.string\n",
      "WARNING:tensorflow:The dtype of the watched tensor must be floating (e.g. tf.float32), got tf.string\n",
      "WARNING:tensorflow:From /usr/local/lib/python3.6/dist-packages/tensorflow/python/ops/ragged/ragged_tensor.py:2056: add_dispatch_support.<locals>.wrapper (from tensorflow.python.ops.array_ops) is deprecated and will be removed in a future version.\n",
      "Instructions for updating:\n",
      "Use tf.where in 2.0, which has the same broadcast rule as np.where\n"
     ]
    }
   ],
   "source": [
    "# Read the dataset into a Tensorflow dataset (this downloads the dataset the first time, after which it is cached).\n",
    "ds = dataset.load_dataset()\n",
    "\n",
    "# We take t50k records as a sample, and turn it to a Pandas data frame.\n",
    "df = dataset.to_pandas_df(ds, n=50000)\n",
    "\n",
    "# These columns contain a single feature\n",
    "scalar_cols = ['c0', 'c1', 'c2', 'c3', 'c4', 'c5', 'c7', 'c8']\n",
    "\n",
    "# These columns contain multiple features (a variable list of IDs)\n",
    "vector_cols = ['c6', 'c9']"
   ]
  },
  {
   "cell_type": "code",
   "execution_count": 4,
   "metadata": {},
   "outputs": [
    {
     "data": {
      "text/html": [
       "<div>\n",
       "<style scoped>\n",
       "    .dataframe tbody tr th:only-of-type {\n",
       "        vertical-align: middle;\n",
       "    }\n",
       "\n",
       "    .dataframe tbody tr th {\n",
       "        vertical-align: top;\n",
       "    }\n",
       "\n",
       "    .dataframe thead th {\n",
       "        text-align: right;\n",
       "    }\n",
       "</style>\n",
       "<table border=\"1\" class=\"dataframe\">\n",
       "  <thead>\n",
       "    <tr style=\"text-align: right;\">\n",
       "      <th></th>\n",
       "      <th>c6</th>\n",
       "      <th>c9</th>\n",
       "      <th>c0</th>\n",
       "      <th>c1</th>\n",
       "      <th>c2</th>\n",
       "      <th>c3</th>\n",
       "      <th>c4</th>\n",
       "      <th>c5</th>\n",
       "      <th>c7</th>\n",
       "      <th>c8</th>\n",
       "      <th>l</th>\n",
       "    </tr>\n",
       "  </thead>\n",
       "  <tbody>\n",
       "    <tr>\n",
       "      <th>0</th>\n",
       "      <td>[-1841755489, -2043098156, -1727378877, -39779...</td>\n",
       "      <td>[-2054476127, 1283169346]</td>\n",
       "      <td>-1664374510</td>\n",
       "      <td>1292560685</td>\n",
       "      <td>1963151207</td>\n",
       "      <td>-113426919</td>\n",
       "      <td>1024827180</td>\n",
       "      <td>0</td>\n",
       "      <td>781804810</td>\n",
       "      <td>677061876</td>\n",
       "      <td>0</td>\n",
       "    </tr>\n",
       "    <tr>\n",
       "      <th>1</th>\n",
       "      <td>[-574085389, 1869122769, 1747304630]</td>\n",
       "      <td>[-614983515]</td>\n",
       "      <td>1566608579</td>\n",
       "      <td>-248982458</td>\n",
       "      <td>336746857</td>\n",
       "      <td>-1629610286</td>\n",
       "      <td>244157766</td>\n",
       "      <td>0</td>\n",
       "      <td>1065163157</td>\n",
       "      <td>332083152</td>\n",
       "      <td>0</td>\n",
       "    </tr>\n",
       "    <tr>\n",
       "      <th>2</th>\n",
       "      <td>[]</td>\n",
       "      <td>[-1954958362, 1578060584, -664062100, 10669762...</td>\n",
       "      <td>1935105702</td>\n",
       "      <td>1292560685</td>\n",
       "      <td>-1389162932</td>\n",
       "      <td>-113426919</td>\n",
       "      <td>-8361123</td>\n",
       "      <td>839761088</td>\n",
       "      <td>-1708330775</td>\n",
       "      <td>1856995055</td>\n",
       "      <td>0</td>\n",
       "    </tr>\n",
       "    <tr>\n",
       "      <th>3</th>\n",
       "      <td>[-833071846, 1997866588, -175433000, -32053917...</td>\n",
       "      <td>[-813776566, 1925809914, 173634585, -148212913...</td>\n",
       "      <td>1718276659</td>\n",
       "      <td>630920017</td>\n",
       "      <td>1171414431</td>\n",
       "      <td>-113426919</td>\n",
       "      <td>640993460</td>\n",
       "      <td>-1183679474</td>\n",
       "      <td>680566046</td>\n",
       "      <td>-681791195</td>\n",
       "      <td>1</td>\n",
       "    </tr>\n",
       "    <tr>\n",
       "      <th>4</th>\n",
       "      <td>[-2043098156, -953332297, 1194923608, -2125072...</td>\n",
       "      <td>[980231370]</td>\n",
       "      <td>1562430026</td>\n",
       "      <td>630920017</td>\n",
       "      <td>1639152385</td>\n",
       "      <td>1781226914</td>\n",
       "      <td>1493440023</td>\n",
       "      <td>0</td>\n",
       "      <td>324520841</td>\n",
       "      <td>873551722</td>\n",
       "      <td>0</td>\n",
       "    </tr>\n",
       "  </tbody>\n",
       "</table>\n",
       "</div>"
      ],
      "text/plain": [
       "                                                  c6  \\\n",
       "0  [-1841755489, -2043098156, -1727378877, -39779...   \n",
       "1               [-574085389, 1869122769, 1747304630]   \n",
       "2                                                 []   \n",
       "3  [-833071846, 1997866588, -175433000, -32053917...   \n",
       "4  [-2043098156, -953332297, 1194923608, -2125072...   \n",
       "\n",
       "                                                  c9           c0          c1  \\\n",
       "0                          [-2054476127, 1283169346]  -1664374510  1292560685   \n",
       "1                                       [-614983515]   1566608579  -248982458   \n",
       "2  [-1954958362, 1578060584, -664062100, 10669762...   1935105702  1292560685   \n",
       "3  [-813776566, 1925809914, 173634585, -148212913...   1718276659   630920017   \n",
       "4                                        [980231370]   1562430026   630920017   \n",
       "\n",
       "            c2           c3          c4           c5           c7          c8  \\\n",
       "0   1963151207   -113426919  1024827180            0    781804810   677061876   \n",
       "1    336746857  -1629610286   244157766            0   1065163157   332083152   \n",
       "2  -1389162932   -113426919    -8361123    839761088  -1708330775  1856995055   \n",
       "3   1171414431   -113426919   640993460  -1183679474    680566046  -681791195   \n",
       "4   1639152385   1781226914  1493440023            0    324520841   873551722   \n",
       "\n",
       "   l  \n",
       "0  0  \n",
       "1  0  \n",
       "2  0  \n",
       "3  1  \n",
       "4  0  "
      ]
     },
     "execution_count": 4,
     "metadata": {},
     "output_type": "execute_result"
    }
   ],
   "source": [
    "df.head()"
   ]
  },
  {
   "cell_type": "markdown",
   "metadata": {},
   "source": [
    "## Exploratory Data Analysis"
   ]
  },
  {
   "cell_type": "code",
   "execution_count": 5,
   "metadata": {},
   "outputs": [
    {
     "name": "stdout",
     "output_type": "stream",
     "text": [
      "Shape: (50000, 11) \n",
      "\n"
     ]
    },
    {
     "data": {
      "text/html": [
       "<div>\n",
       "<style scoped>\n",
       "    .dataframe tbody tr th:only-of-type {\n",
       "        vertical-align: middle;\n",
       "    }\n",
       "\n",
       "    .dataframe tbody tr th {\n",
       "        vertical-align: top;\n",
       "    }\n",
       "\n",
       "    .dataframe thead th {\n",
       "        text-align: right;\n",
       "    }\n",
       "</style>\n",
       "<table border=\"1\" class=\"dataframe\">\n",
       "  <thead>\n",
       "    <tr style=\"text-align: right;\">\n",
       "      <th></th>\n",
       "      <th>Dtypes</th>\n",
       "      <th># of values non NaN</th>\n",
       "      <th># of values NaN</th>\n",
       "      <th># of values non zero</th>\n",
       "      <th># of values zero</th>\n",
       "    </tr>\n",
       "  </thead>\n",
       "  <tbody>\n",
       "    <tr>\n",
       "      <th>c6</th>\n",
       "      <td>object</td>\n",
       "      <td>50000</td>\n",
       "      <td>0</td>\n",
       "      <td>42792</td>\n",
       "      <td>7208</td>\n",
       "    </tr>\n",
       "    <tr>\n",
       "      <th>c9</th>\n",
       "      <td>object</td>\n",
       "      <td>50000</td>\n",
       "      <td>0</td>\n",
       "      <td>28407</td>\n",
       "      <td>21593</td>\n",
       "    </tr>\n",
       "    <tr>\n",
       "      <th>c0</th>\n",
       "      <td>Int64</td>\n",
       "      <td>50000</td>\n",
       "      <td>0</td>\n",
       "      <td>50000</td>\n",
       "      <td>0</td>\n",
       "    </tr>\n",
       "    <tr>\n",
       "      <th>c1</th>\n",
       "      <td>Int64</td>\n",
       "      <td>50000</td>\n",
       "      <td>0</td>\n",
       "      <td>50000</td>\n",
       "      <td>0</td>\n",
       "    </tr>\n",
       "    <tr>\n",
       "      <th>c2</th>\n",
       "      <td>Int64</td>\n",
       "      <td>50000</td>\n",
       "      <td>0</td>\n",
       "      <td>50000</td>\n",
       "      <td>0</td>\n",
       "    </tr>\n",
       "    <tr>\n",
       "      <th>c3</th>\n",
       "      <td>Int64</td>\n",
       "      <td>50000</td>\n",
       "      <td>0</td>\n",
       "      <td>25923</td>\n",
       "      <td>24077</td>\n",
       "    </tr>\n",
       "    <tr>\n",
       "      <th>c4</th>\n",
       "      <td>Int64</td>\n",
       "      <td>50000</td>\n",
       "      <td>0</td>\n",
       "      <td>50000</td>\n",
       "      <td>0</td>\n",
       "    </tr>\n",
       "    <tr>\n",
       "      <th>c5</th>\n",
       "      <td>Int64</td>\n",
       "      <td>50000</td>\n",
       "      <td>0</td>\n",
       "      <td>32457</td>\n",
       "      <td>17543</td>\n",
       "    </tr>\n",
       "    <tr>\n",
       "      <th>c7</th>\n",
       "      <td>Int64</td>\n",
       "      <td>50000</td>\n",
       "      <td>0</td>\n",
       "      <td>50000</td>\n",
       "      <td>0</td>\n",
       "    </tr>\n",
       "    <tr>\n",
       "      <th>c8</th>\n",
       "      <td>Int64</td>\n",
       "      <td>50000</td>\n",
       "      <td>0</td>\n",
       "      <td>50000</td>\n",
       "      <td>0</td>\n",
       "    </tr>\n",
       "    <tr>\n",
       "      <th>l</th>\n",
       "      <td>Int64</td>\n",
       "      <td>50000</td>\n",
       "      <td>0</td>\n",
       "      <td>8905</td>\n",
       "      <td>41095</td>\n",
       "    </tr>\n",
       "  </tbody>\n",
       "</table>\n",
       "</div>"
      ],
      "text/plain": [
       "    Dtypes  # of values non NaN  # of values NaN  # of values non zero  \\\n",
       "c6  object                50000                0                 42792   \n",
       "c9  object                50000                0                 28407   \n",
       "c0   Int64                50000                0                 50000   \n",
       "c1   Int64                50000                0                 50000   \n",
       "c2   Int64                50000                0                 50000   \n",
       "c3   Int64                50000                0                 25923   \n",
       "c4   Int64                50000                0                 50000   \n",
       "c5   Int64                50000                0                 32457   \n",
       "c7   Int64                50000                0                 50000   \n",
       "c8   Int64                50000                0                 50000   \n",
       "l    Int64                50000                0                  8905   \n",
       "\n",
       "    # of values zero  \n",
       "c6              7208  \n",
       "c9             21593  \n",
       "c0                 0  \n",
       "c1                 0  \n",
       "c2                 0  \n",
       "c3             24077  \n",
       "c4                 0  \n",
       "c5             17543  \n",
       "c7                 0  \n",
       "c8                 0  \n",
       "l              41095  "
      ]
     },
     "execution_count": 5,
     "metadata": {},
     "output_type": "execute_result"
    }
   ],
   "source": [
    "numeric_exploratory_data_analysis(df)"
   ]
  },
  {
   "cell_type": "markdown",
   "metadata": {},
   "source": [
    "<ul>\n",
    "\n",
    "<li>The dataset presents no missing values (nan).</li>\n",
    "<li>Several features c6, c9, c3 and c5 have lots of zero values. When the data was read using tensorflow, it was used default = 0.</li>\n",
    "<li>The target variable l has 41095 values 0 (82%) and 8905 values 1 (18%), so there is some imbalance in the target variable.</li>\n",
    "    \n",
    "</ul>"
   ]
  },
  {
   "cell_type": "markdown",
   "metadata": {},
   "source": [
    "Some columns have high cardinality (number of unique values):"
   ]
  },
  {
   "cell_type": "code",
   "execution_count": 6,
   "metadata": {},
   "outputs": [
    {
     "name": "stdout",
     "output_type": "stream",
     "text": [
      "column = c0, cardinality = 1411\n",
      "column = c1, cardinality = 70\n",
      "column = c2, cardinality = 254\n",
      "column = c3, cardinality = 47\n",
      "column = c4, cardinality = 4842\n",
      "column = c5, cardinality = 3\n",
      "column = c7, cardinality = 14267\n",
      "column = c8, cardinality = 23246\n"
     ]
    }
   ],
   "source": [
    "for column in scalar_cols:\n",
    "    print('column = %s, cardinality = %s' % (column, df[column].nunique()))"
   ]
  },
  {
   "cell_type": "code",
   "execution_count": 7,
   "metadata": {},
   "outputs": [
    {
     "name": "stdout",
     "output_type": "stream",
     "text": [
      "column = c6, cardinality = 198642\n",
      "column = c9, cardinality = 60060\n"
     ]
    }
   ],
   "source": [
    "for column in vector_cols:\n",
    "    print('column = %s, cardinality = %s' % (column, len(set(df[column].sum()))))"
   ]
  },
  {
   "cell_type": "markdown",
   "metadata": {},
   "source": [
    "## Pre-processing"
   ]
  },
  {
   "cell_type": "code",
   "execution_count": 8,
   "metadata": {},
   "outputs": [],
   "source": [
    "# Labels (target variable)\n",
    "y = df['l']\n",
    "y = y.astype('int')"
   ]
  },
  {
   "cell_type": "code",
   "execution_count": 9,
   "metadata": {},
   "outputs": [],
   "source": [
    "# One hot encode all features available\n",
    "raw_x = list()\n",
    "for _i, row in df.iterrows():\n",
    "    record = list()\n",
    "    for c in scalar_cols:\n",
    "        # We name space the feature with the column name so that we can easily see from which column it came from\n",
    "        record.append('%s^%s' % (c, row[c]))\n",
    "    for c in vector_cols:\n",
    "        # Same for c6 and c9\n",
    "        record.extend(['%s^%s' % (c, x) for x in row[c]])\n",
    "    # We do not consider the counts of the feature appearing (only whether they are present or not)\n",
    "    raw_x.append({k: 1 for k in record})\n",
    "\n"
   ]
  },
  {
   "cell_type": "code",
   "execution_count": 10,
   "metadata": {},
   "outputs": [],
   "source": [
    "# Vectorize the features\n",
    "vectorizer = DictVectorizer()\n",
    "X = vectorizer.fit_transform(raw_x)"
   ]
  },
  {
   "cell_type": "markdown",
   "metadata": {},
   "source": [
    "## Creating Training and Test Sets"
   ]
  },
  {
   "cell_type": "code",
   "execution_count": 11,
   "metadata": {},
   "outputs": [
    {
     "name": "stdout",
     "output_type": "stream",
     "text": [
      "(40000, 302842)\n",
      "(10000, 302842)\n",
      "(40000,)\n",
      "(10000,)\n"
     ]
    }
   ],
   "source": [
    "# The data is chronologically ordered with older data first \n",
    "# 80% training set, 20% testing set\n",
    "X_train, X_test = X[:40000], X[40000:]\n",
    "y_train, y_test = y[:40000], y[40000:]\n",
    "\n",
    "for x in [X_train, X_test, y_train, y_test]:\n",
    "    print(x.shape)"
   ]
  },
  {
   "cell_type": "markdown",
   "metadata": {},
   "source": [
    "## Training and Testing Classification Models"
   ]
  },
  {
   "cell_type": "code",
   "execution_count": 12,
   "metadata": {},
   "outputs": [
    {
     "name": "stdout",
     "output_type": "stream",
     "text": [
      "------------------------------------------------------------------------------\n",
      "LogisticRegression\n",
      "------------------------------------------------------------------------------\n",
      "CPU times: user 23.7 s, sys: 13.2 s, total: 36.9 s\n",
      "Wall time: 9.9 s\n",
      "Accuracy of training set: 0.961275\n",
      "Accuracy of test set: 0.8445\n",
      "Confusion matrix, without normalization\n",
      "[[7764  402]\n",
      " [1153  681]]\n"
     ]
    },
    {
     "name": "stderr",
     "output_type": "stream",
     "text": [
      "/usr/local/lib/python3.6/dist-packages/sklearn/linear_model/_logistic.py:940: ConvergenceWarning: lbfgs failed to converge (status=1):\n",
      "STOP: TOTAL NO. of ITERATIONS REACHED LIMIT.\n",
      "\n",
      "Increase the number of iterations (max_iter) or scale the data as shown in:\n",
      "    https://scikit-learn.org/stable/modules/preprocessing.html\n",
      "Please also refer to the documentation for alternative solver options:\n",
      "    https://scikit-learn.org/stable/modules/linear_model.html#logistic-regression\n",
      "  extra_warning_msg=_LOGISTIC_SOLVER_CONVERGENCE_MSG)\n"
     ]
    },
    {
     "data": {
      "text/plain": [
       "<Figure size 432x288 with 0 Axes>"
      ]
     },
     "metadata": {},
     "output_type": "display_data"
    },
    {
     "data": {
      "image/png": "[encoded data removed]",
      "text/plain": [
       "<Figure size 432x288 with 2 Axes>"
      ]
     },
     "metadata": {
      "needs_background": "light"
     },
     "output_type": "display_data"
    },
    {
     "name": "stdout",
     "output_type": "stream",
     "text": [
      "              precision    recall  f1-score   support\n",
      "\n",
      "           0       0.87      0.95      0.91      8166\n",
      "           1       0.63      0.37      0.47      1834\n",
      "\n",
      "    accuracy                           0.84     10000\n",
      "   macro avg       0.75      0.66      0.69     10000\n",
      "weighted avg       0.83      0.84      0.83     10000\n",
      "\n",
      "------------------------------------------------------------------------------\n",
      "DecisionTreeClassifier\n",
      "------------------------------------------------------------------------------\n",
      "CPU times: user 2min 2s, sys: 0 ns, total: 2min 2s\n",
      "Wall time: 2min 2s\n",
      "Accuracy of training set: 0.997575\n",
      "Accuracy of test set: 0.8212\n",
      "Confusion matrix, without normalization\n",
      "[[7437  729]\n",
      " [1059  775]]\n"
     ]
    },
    {
     "data": {
      "text/plain": [
       "<Figure size 432x288 with 0 Axes>"
      ]
     },
     "metadata": {},
     "output_type": "display_data"
    },
    {
     "data": {
      "image/png": "[encoded data removed]",
      "text/plain": [
       "<Figure size 432x288 with 2 Axes>"
      ]
     },
     "metadata": {
      "needs_background": "light"
     },
     "output_type": "display_data"
    },
    {
     "name": "stdout",
     "output_type": "stream",
     "text": [
      "              precision    recall  f1-score   support\n",
      "\n",
      "           0       0.88      0.91      0.89      8166\n",
      "           1       0.52      0.42      0.46      1834\n",
      "\n",
      "    accuracy                           0.82     10000\n",
      "   macro avg       0.70      0.67      0.68     10000\n",
      "weighted avg       0.81      0.82      0.81     10000\n",
      "\n",
      "------------------------------------------------------------------------------\n",
      "RandomForestClassifier\n",
      "------------------------------------------------------------------------------\n",
      "CPU times: user 29min 41s, sys: 1.05 s, total: 29min 42s\n",
      "Wall time: 29min 45s\n",
      "Accuracy of training set: 0.9975\n",
      "Accuracy of test set: 0.8522\n",
      "Confusion matrix, without normalization\n",
      "[[7937  229]\n",
      " [1249  585]]\n"
     ]
    },
    {
     "data": {
      "text/plain": [
       "<Figure size 432x288 with 0 Axes>"
      ]
     },
     "metadata": {},
     "output_type": "display_data"
    },
    {
     "data": {
      "image/png": "[encoded data removed]",
      "text/plain": [
       "<Figure size 432x288 with 2 Axes>"
      ]
     },
     "metadata": {
      "needs_background": "light"
     },
     "output_type": "display_data"
    },
    {
     "name": "stdout",
     "output_type": "stream",
     "text": [
      "              precision    recall  f1-score   support\n",
      "\n",
      "           0       0.86      0.97      0.91      8166\n",
      "           1       0.72      0.32      0.44      1834\n",
      "\n",
      "    accuracy                           0.85     10000\n",
      "   macro avg       0.79      0.65      0.68     10000\n",
      "weighted avg       0.84      0.85      0.83     10000\n",
      "\n",
      "------------------------------------------------------------------------------\n",
      "AdaBoostClassifier\n",
      "------------------------------------------------------------------------------\n",
      "CPU times: user 8min 24s, sys: 183 ms, total: 8min 24s\n",
      "Wall time: 8min 24s\n",
      "Accuracy of training set: 0.849\n",
      "Accuracy of test set: 0.8466\n",
      "Confusion matrix, without normalization\n",
      "[[7948  218]\n",
      " [1316  518]]\n"
     ]
    },
    {
     "data": {
      "text/plain": [
       "<Figure size 432x288 with 0 Axes>"
      ]
     },
     "metadata": {},
     "output_type": "display_data"
    },
    {
     "data": {
      "image/png": "[encoded data removed]",
      "text/plain": [
       "<Figure size 432x288 with 2 Axes>"
      ]
     },
     "metadata": {
      "needs_background": "light"
     },
     "output_type": "display_data"
    },
    {
     "name": "stdout",
     "output_type": "stream",
     "text": [
      "              precision    recall  f1-score   support\n",
      "\n",
      "           0       0.86      0.97      0.91      8166\n",
      "           1       0.70      0.28      0.40      1834\n",
      "\n",
      "    accuracy                           0.85     10000\n",
      "   macro avg       0.78      0.63      0.66     10000\n",
      "weighted avg       0.83      0.85      0.82     10000\n",
      "\n"
     ]
    }
   ],
   "source": [
    "models = []\n",
    "\n",
    "models.append(('LogisticRegression',            LogisticRegression()))\n",
    "models.append(('DecisionTreeClassifier',        DecisionTreeClassifier()))\n",
    "models.append(('RandomForestClassifier',        RandomForestClassifier()))\n",
    "models.append(('AdaBoostClassifier',            AdaBoostClassifier()))\n",
    "\n",
    "for name, model in models:\n",
    "    print('------------------------------------------------------------------------------')\n",
    "    print(name)\n",
    "    print('------------------------------------------------------------------------------')\n",
    "    fit_predict_plot(X_train, X_test, y_train, y_test, model)"
   ]
  },
  {
   "cell_type": "markdown",
   "metadata": {},
   "source": [
    "<ul>\n",
    "<li>The classifiers LogisticRegression, DecisionTreeClassifier, RandomForestClassifier are overfitting, the accuracy on the training set is higher than on the test set.</li>    \n",
    "<li>The confusion matrices shows several misclassified examples, principally on the positive class. This can be verified by the lower f1 score of the positive class.</li>\n",
    "</ul>"
   ]
  },
  {
   "cell_type": "markdown",
   "metadata": {},
   "source": [
    "## Steps of Future Work"
   ]
  },
  {
   "cell_type": "markdown",
   "metadata": {},
   "source": [
    "<ul>\n",
    "<li>Discuss strategies to imput missing values (zero and empty lists). The dataset has lots of value zero and this might influence the final results of the classifiers.</li>    \n",
    "<li>Train other classifiers and evaluate their output.</li>\n",
    "<li>Perform hyper parameter tunning (GridSearchCV) on the best performing classifiers to see if some improvement can be obtained.</li>\n",
    "<li>Use strategies to combat the overfitting of the classifiers (e.g. regularization).\n",
    "</ul>"
   ]
  },
  {
   "cell_type": "code",
   "execution_count": null,
   "metadata": {},
   "outputs": [],
   "source": []
  }
 ],
 "metadata": {
  "kernelspec": {
   "display_name": "Python 3",
   "language": "python",
   "name": "python3"
  },
  "language_info": {
   "codemirror_mode": {
    "name": "ipython",
    "version": 3
   },
   "file_extension": ".py",
   "mimetype": "text/x-python",
   "name": "python",
   "nbconvert_exporter": "python",
   "pygments_lexer": "ipython3",
   "version": "3.6.9"
  }
 },
 "nbformat": 4,
 "nbformat_minor": 4
}
